{
 "cells": [
  {
   "cell_type": "markdown",
   "metadata": {
    "deletable": true,
    "editable": true
   },
   "source": [
    "# Self-Driving Car Engineer Nanodegree\n",
    "\n",
    "## Deep Learning\n",
    "\n",
    "## Project: Build a Traffic Sign Recognition Classifier\n",
    "\n",
    "In this notebook, a template is provided for you to implement your functionality in stages, which is required to successfully complete this project. If additional code is required that cannot be included in the notebook, be sure that the Python code is successfully imported and included in your submission if necessary. \n",
    "\n",
    "> **Note**: Once you have completed all of the code implementations, you need to finalize your work by exporting the iPython Notebook as an HTML document. Before exporting the notebook to html, all of the code cells need to have been run so that reviewers can see the final implementation and output. You can then export the notebook by using the menu above and navigating to  \\n\",\n",
    "    \"**File -> Download as -> HTML (.html)**. Include the finished document along with this notebook as your submission. \n",
    "\n",
    "In addition to implementing code, there is a writeup to complete. The writeup should be completed in a separate file, which can be either a markdown file or a pdf document. There is a [write up template](https://github.com/udacity/CarND-Traffic-Sign-Classifier-Project/blob/master/writeup_template.md) that can be used to guide the writing process. Completing the code template and writeup template will cover all of the [rubric points](https://review.udacity.com/#!/rubrics/481/view) for this project.\n",
    "\n",
    "The [rubric](https://review.udacity.com/#!/rubrics/481/view) contains \"Stand Out Suggestions\" for enhancing the project beyond the minimum requirements. The stand out suggestions are optional. If you decide to pursue the \"stand out suggestions\", you can include the code in this Ipython notebook and also discuss the results in the writeup file.\n",
    "\n",
    "\n",
    ">**Note:** Code and Markdown cells can be executed using the **Shift + Enter** keyboard shortcut. In addition, Markdown cells can be edited by typically double-clicking the cell to enter edit mode."
   ]
  },
  {
   "cell_type": "markdown",
   "metadata": {
    "deletable": true,
    "editable": true
   },
   "source": [
    "---\n",
    "## Step 0: Load The Data"
   ]
  },
  {
   "cell_type": "code",
   "execution_count": 1,
   "metadata": {
    "collapsed": false,
    "deletable": true,
    "editable": true
   },
   "outputs": [],
   "source": [
    "# Load pickled data\n",
    "import pickle\n",
    "import os\n",
    "\n",
    "# TODO: Fill this in based on where you saved the training and testing data\n",
    "DATA_DIR = \"data\"\n",
    "\n",
    "training_file = os.path.join(DATA_DIR, 'train.p')\n",
    "validation_file= os.path.join(DATA_DIR, 'valid.p')\n",
    "testing_file = os.path.join(DATA_DIR, 'test.p')\n",
    "\n",
    "with open(training_file, mode='rb') as f:\n",
    "    train = pickle.load(f)\n",
    "with open(validation_file, mode='rb') as f:\n",
    "    valid = pickle.load(f)\n",
    "with open(testing_file, mode='rb') as f:\n",
    "    test = pickle.load(f)\n",
    "    \n",
    "X_train, y_train = train['features'], train['labels']\n",
    "X_valid, y_valid = valid['features'], valid['labels']\n",
    "X_test, y_test = test['features'], test['labels']"
   ]
  },
  {
   "cell_type": "markdown",
   "metadata": {
    "deletable": true,
    "editable": true
   },
   "source": [
    "---\n",
    "\n",
    "## Step 1: Dataset Summary & Exploration\n",
    "\n",
    "The pickled data is a dictionary with 4 key/value pairs:\n",
    "\n",
    "- `'features'` is a 4D array containing raw pixel data of the traffic sign images, (num examples, width, height, channels).\n",
    "- `'labels'` is a 1D array containing the label/class id of the traffic sign. The file `signnames.csv` contains id -> name mappings for each id.\n",
    "- `'sizes'` is a list containing tuples, (width, height) representing the original width and height the image.\n",
    "- `'coords'` is a list containing tuples, (x1, y1, x2, y2) representing coordinates of a bounding box around the sign in the image. **THESE COORDINATES ASSUME THE ORIGINAL IMAGE. THE PICKLED DATA CONTAINS RESIZED VERSIONS (32 by 32) OF THESE IMAGES**\n",
    "\n",
    "Complete the basic data summary below. Use python, numpy and/or pandas methods to calculate the data summary rather than hard coding the results. For example, the [pandas shape method](http://pandas.pydata.org/pandas-docs/stable/generated/pandas.DataFrame.shape.html) might be useful for calculating some of the summary results. "
   ]
  },
  {
   "cell_type": "markdown",
   "metadata": {
    "deletable": true,
    "editable": true
   },
   "source": [
    "### Provide a Basic Summary of the Data Set Using Python, Numpy and/or Pandas"
   ]
  },
  {
   "cell_type": "code",
   "execution_count": 2,
   "metadata": {
    "collapsed": false,
    "deletable": true,
    "editable": true
   },
   "outputs": [
    {
     "name": "stdout",
     "output_type": "stream",
     "text": [
      "Number of training examples = 34799\n",
      "Number of testing examples = 12630\n",
      "Image data shape = (32, 32, 3)\n",
      "Number of classes = 43\n"
     ]
    }
   ],
   "source": [
    "### Replace each question mark with the appropriate value. \n",
    "### Use python, pandas or numpy methods rather than hard coding the results\n",
    "import pandas as pd\n",
    "import numpy as np\n",
    "\n",
    "# TODO: Number of training examples\n",
    "n_train = train['labels'].shape[0]\n",
    "\n",
    "# TODO: Number of validation examples\n",
    "n_validation = valid['labels'].shape[0]\n",
    "\n",
    "# TODO: Number of testing examples.\n",
    "n_test = test['labels'].shape[0]\n",
    "\n",
    "# TODO: What's the shape of an traffic sign image?\n",
    "image_shape = train['features'].shape[1:]\n",
    "\n",
    "# TODO: How many unique classes/labels there are in the dataset.\n",
    "n_classes = np.max([len(np.unique(train['labels'])), len(np.unique(test['labels'])), len(np.unique(valid['labels']))])\n",
    "\n",
    "print(\"Number of training examples =\", n_train)\n",
    "print(\"Number of testing examples =\", n_test)\n",
    "print(\"Image data shape =\", image_shape)\n",
    "print(\"Number of classes =\", n_classes)"
   ]
  },
  {
   "cell_type": "markdown",
   "metadata": {
    "deletable": true,
    "editable": true
   },
   "source": [
    "### Include an exploratory visualization of the dataset"
   ]
  },
  {
   "cell_type": "markdown",
   "metadata": {
    "deletable": true,
    "editable": true
   },
   "source": [
    "Visualize the German Traffic Signs Dataset using the pickled file(s). This is open ended, suggestions include: plotting traffic sign images, plotting the count of each sign, etc. \n",
    "\n",
    "The [Matplotlib](http://matplotlib.org/) [examples](http://matplotlib.org/examples/index.html) and [gallery](http://matplotlib.org/gallery.html) pages are a great resource for doing visualizations in Python.\n",
    "\n",
    "**NOTE:** It's recommended you start with something simple first. If you wish to do more, come back to it after you've completed the rest of the sections. It can be interesting to look at the distribution of classes in the training, validation and test set. Is the distribution the same? Are there more examples of some classes than others?"
   ]
  },
  {
   "cell_type": "markdown",
   "metadata": {
    "deletable": true,
    "editable": true
   },
   "source": [
    "---\n",
    "\n",
    "First step is to check the frequency distribution of the classes in each of the 3 sets"
   ]
  },
  {
   "cell_type": "code",
   "execution_count": 3,
   "metadata": {
    "collapsed": false,
    "deletable": true,
    "editable": true
   },
   "outputs": [
    {
     "data": {
      "text/plain": [
       "[<matplotlib.text.Text at 0x1b8f28edb70>]"
      ]
     },
     "execution_count": 3,
     "metadata": {},
     "output_type": "execute_result"
    },
    {
     "data": {
      "image/png": "[encoded data removed]",
      "text/plain": [
       "<matplotlib.figure.Figure at 0x1b8f2949be0>"
      ]
     },
     "metadata": {},
     "output_type": "display_data"
    }
   ],
   "source": [
    "### Data exploration visualization code goes here.\n",
    "### Feel free to use as many code cells as needed.\n",
    "import matplotlib.pyplot as plt\n",
    "# Visualizations will be shown in the notebook.\n",
    "%matplotlib inline\n",
    "\n",
    "import pandas as pd\n",
    "\n",
    "# The first check is to see if there is any bias in the \n",
    "# label distributions\n",
    "def append_set(histogram, dt, setname):\n",
    "    dt['set'] = setname\n",
    "    return pd.concat([histogram, dt])\n",
    "\n",
    "df = pd.DataFrame()\n",
    "df = append_set(df, pd.DataFrame(train['labels']), 'train')\n",
    "df = append_set(df, pd.DataFrame(valid['labels']), 'valid')\n",
    "df = append_set(df, pd.DataFrame(test['labels']), 'test')\n",
    "\n",
    "df = df.rename(columns = {0:'label'})\n",
    "df = df.groupby(['set', 'label'])['label'].agg({'N':'count'})\n",
    "\n",
    "df = df.groupby(level=0).apply(lambda x:  100 * x/float(x.sum()))\n",
    "ax = df.unstack(level= 0).plot.bar(figsize = (18, 6))\n",
    "ax.set(xlabel=\"Labels\", ylabel=\"Relative Frequency (%)\")\n",
    "ax.set(title = \"Label distribution is not uniform but is pretty similar among train, validation and test sets \")\n"
   ]
  },
  {
   "cell_type": "markdown",
   "metadata": {
    "deletable": true,
    "editable": true
   },
   "source": [
    "----\n",
    "\n",
    "We can see that the label frequency is not uniform : some of them appearing less than 1%, and some with almost 6%. If the model have a difficult time classifying those labels, we could generate more samples for those labels and retrain the models.\n",
    "\n",
    "Good news is the similarity of the frequencies of the labels among sets.\n",
    "\n",
    "----\n",
    "### Sample visualization\n",
    "\n",
    "Let's just see what kind of images we are dealing with to design an effective preprocessing algorithm."
   ]
  },
  {
   "cell_type": "code",
   "execution_count": 4,
   "metadata": {
    "collapsed": false,
    "deletable": true,
    "editable": true
   },
   "outputs": [
    {
     "data": {
      "image/png": "[encoded data removed]",
      "text/plain": [
       "<matplotlib.figure.Figure at 0x1b8f1ce6ef0>"
      ]
     },
     "metadata": {},
     "output_type": "display_data"
    }
   ],
   "source": [
    "### Visualizing Data for Each Label\n",
    "# show image of 10 random data points\n",
    "fig, axs = plt.subplots(4,4, figsize=(18, 6))\n",
    "axs = axs.ravel()\n",
    "for img in range(16):\n",
    "    index = np.random.randint(0, len(X_train))\n",
    "    image = X_train[index]\n",
    "    axs[img].axis('off')\n",
    "    axs[img].imshow(image)\n",
    "    axs[img].set_title(y_train[index])\n",
    "\n",
    "plt.show()"
   ]
  },
  {
   "cell_type": "markdown",
   "metadata": {
    "deletable": true,
    "editable": true
   },
   "source": [
    "The images are very distinct in terms of contrast, brightness and sharpness. Some of them are particularly difficult to read."
   ]
  },
  {
   "cell_type": "markdown",
   "metadata": {
    "deletable": true,
    "editable": true
   },
   "source": [
    "----\n",
    "\n",
    "## Step 2: Design and Test a Model Architecture\n",
    "\n",
    "Design and implement a deep learning model that learns to recognize traffic signs. Train and test your model on the [German Traffic Sign Dataset](http://benchmark.ini.rub.de/?section=gtsrb&subsection=dataset).\n",
    "\n",
    "The LeNet-5 implementation shown in the [classroom](https://classroom.udacity.com/nanodegrees/nd013/parts/fbf77062-5703-404e-b60c-95b78b2f3f9e/modules/6df7ae49-c61c-4bb2-a23e-6527e69209ec/lessons/601ae704-1035-4287-8b11-e2c2716217ad/concepts/d4aca031-508f-4e0b-b493-e7b706120f81) at the end of the CNN lesson is a solid starting point. You'll have to change the number of classes and possibly the preprocessing, but aside from that it's plug and play! \n",
    "\n",
    "With the LeNet-5 solution from the lecture, you should expect a validation set accuracy of about 0.89. To meet specifications, the validation set accuracy will need to be at least 0.93. It is possible to get an even higher accuracy, but 0.93 is the minimum for a successful project submission. \n",
    "\n",
    "There are various aspects to consider when thinking about this problem:\n",
    "\n",
    "- Neural network architecture (is the network over or underfitting?)\n",
    "- Play around preprocessing techniques (normalization, rgb to grayscale, etc)\n",
    "- Number of examples per label (some have more than others).\n",
    "- Generate fake data.\n",
    "\n",
    "Here is an example of a [published baseline model on this problem](http://yann.lecun.com/exdb/publis/pdf/sermanet-ijcnn-11.pdf). It's not required to be familiar with the approach used in the paper but, it's good practice to try to read papers like these."
   ]
  },
  {
   "cell_type": "markdown",
   "metadata": {
    "deletable": true,
    "editable": true
   },
   "source": [
    "### Pre-process the Data Set (normalization, grayscale, etc.)"
   ]
  },
  {
   "cell_type": "markdown",
   "metadata": {
    "deletable": true,
    "editable": true
   },
   "source": [
    "Minimally, the image data should be normalized so that the data has mean zero and equal variance. For image data, `(pixel - 128)/ 128` is a quick way to approximately normalize the data and can be used in this project. \n",
    "\n",
    "Other pre-processing steps are optional. You can try different techniques to see if it improves performance. \n",
    "\n",
    "Use the code cell (or multiple code cells, if necessary) to implement the first step of your project."
   ]
  },
  {
   "cell_type": "code",
   "execution_count": 5,
   "metadata": {
    "collapsed": false,
    "deletable": true,
    "editable": true
   },
   "outputs": [
    {
     "name": "stdout",
     "output_type": "stream",
     "text": [
      "DATA-PREP: Finished\n"
     ]
    }
   ],
   "source": [
    "### Preprocess the data here. It is required to normalize the data. Other preprocessing steps could include \n",
    "### converting to grayscale, etc.\n",
    "### Feel free to use as many code cells as needed.\n",
    "\n",
    "# Following my philosophy of trying to use the minimum amount of resources to solve the problem, \n",
    "# I'll first do my best to calibrate a model with grayscale images and only use the 3-color channels\n",
    "# if strictly necessary.\n",
    "import cv2\n",
    "\n",
    "def prepare_img(img):\n",
    "    \"\"\" \n",
    "    Standard image preprocessing pipeline :\n",
    "        1) Convert images to grayscale\n",
    "        2) Contrast enhancing with adaptive histogram equalization\n",
    "        3) Data normalization to a specified range\n",
    "    \"\"\"\n",
    "    img = cv2.cvtColor(img, cv2.COLOR_RGB2GRAY)\n",
    "    \n",
    "    # For the second step, I'm using the method described below\n",
    "    # http://docs.opencv.org/3.1.0/d5/daf/tutorial_py_histogram_equalization.html\n",
    "    clahe = cv2.createCLAHE(clipLimit=2.0, tileGridSize=(8,8))\n",
    "    img = clahe.apply(img)\n",
    "    img = cv2.normalize(img, img, 0, 255, cv2.NORM_MINMAX) / 255\n",
    "\n",
    "    return img\n",
    "\n",
    "def process_set(imgset):\n",
    "    \"\"\" Returns a new set of normalized images\"\"\"\n",
    "    gray_set = np.zeros(imgset.shape[:-1])\n",
    "\n",
    "    for x in range(imgset.shape[0]):\n",
    "        gray_set[x] = prepare_img(imgset[x])\n",
    "        \n",
    "    gray_set.shape +=1,    \n",
    "    return gray_set\n",
    "\n",
    "X_train_gray = process_set(X_train)\n",
    "X_valid_gray = process_set(X_valid)\n",
    "X_test_gray = process_set(X_test)\n",
    "\n",
    "print(\"DATA-PREP: Finished\")\n"
   ]
  },
  {
   "cell_type": "markdown",
   "metadata": {
    "deletable": true,
    "editable": true
   },
   "source": [
    "\n",
    "### Model Architecture\n",
    "\n",
    "I'll start with the LeNet architecture since it the lesson ran relatively fast on my laptop"
   ]
  },
  {
   "cell_type": "code",
   "execution_count": 6,
   "metadata": {
    "collapsed": true,
    "deletable": true,
    "editable": true
   },
   "outputs": [],
   "source": [
    "### Define your architecture here.\n",
    "### Feel free to use as many code cells as needed.\n",
    "def conv_layer(tensor, W, b, stride = 1, paddding = 'VALID', pool_stride = 2):\n",
    "    \"\"\"Similar to tf.layers.conv2d. \n",
    "    Could be completely avoided if high-level ops \n",
    "    are allowed\n",
    "    \"\"\"\n",
    "    tensor = tf.nn.conv2d(tensor, W, strides=[1, stride, stride, 1], padding=paddding) + b\n",
    "    tensor = tf.nn.relu(tensor)\n",
    "    if pool_stride > 0:\n",
    "        stride_vec = [1, pool_stride, pool_stride, 1]\n",
    "        tensor = tf.nn.max_pool(tensor, ksize=stride_vec, strides=stride_vec, padding=paddding)\n",
    "    return tensor\n",
    "\n",
    "def flat_layer(tensor, W, b, activation = True):\n",
    "    \"\"\"Simple dense layer with relu activation\"\"\"\n",
    "    tensor = tf.matmul(tensor, W) + b\n",
    "    if activation:\n",
    "        tensor = tf.nn.relu(tensor)\n",
    "        \n",
    "    return tensor\n",
    "\n",
    "from tensorflow.contrib.layers import flatten\n",
    "\n",
    "def LeNet(x, nlabels, mu = 0, sigma = 0.1):\n",
    "    \"\"\"Implements the LeNet architecture\"\"\"\n",
    "    \n",
    "    # TODO: verify If I can declare W and b parameters inside the conv_layer function\n",
    "    # CONVOLUTION\n",
    "    Wc1 = tf.Variable(tf.truncated_normal(shape=(5, 5, 1, 6), mean = mu, stddev = sigma))\n",
    "    bc1 = tf.Variable(tf.zeros(6))\n",
    "    x = conv_layer(x, Wc1, bc1)\n",
    "    \n",
    "    # CONVOLUTION\n",
    "    Wc2 = tf.Variable(tf.truncated_normal(shape=(5, 5, 6, 16), mean = mu, stddev = sigma))\n",
    "    bc2 = tf.Variable(tf.zeros(16))\n",
    "    x = conv_layer(x, Wc2, bc2)\n",
    "    \n",
    "    Wc3 = tf.Variable(tf.truncated_normal(shape=(5, 5, 16, 400), mean = mu, stddev = sigma))\n",
    "    bc3 = tf.Variable(tf.zeros(400))\n",
    "    x = conv_layer(x, Wc3, bc3, pool_stride=-1)\n",
    "    \n",
    "    \n",
    "    # FLAT LAYERS\n",
    "    x = flatten(x)\n",
    "    \n",
    "    outdim = 120\n",
    "    Wf1 = tf.Variable(tf.truncated_normal(shape = (x.get_shape().as_list()[-1], outdim), mean=mu, stddev=sigma))\n",
    "    bf1 = tf.Variable(tf.zeros(shape=outdim))\n",
    "    x = flat_layer(x, Wf1, bf1)\n",
    "    \n",
    "    outdim = 84\n",
    "    Wf2 = tf.Variable(tf.truncated_normal(shape = (x.get_shape().as_list()[-1], outdim), mean=mu, stddev=sigma))\n",
    "    bf2 = tf.Variable(tf.zeros(shape=outdim))\n",
    "    x = flat_layer(x, Wf2, bf2)\n",
    "    \n",
    "    outdim = nlabels\n",
    "    Wf3 = tf.Variable(tf.truncated_normal(shape = (x.get_shape().as_list()[-1], outdim), mean=mu, stddev=sigma))\n",
    "    bf3 = tf.Variable(tf.zeros(shape=outdim))\n",
    "    x = flat_layer(x, Wf3, bf3, activation = False)\n",
    "    \n",
    "    return x    \n",
    "    "
   ]
  },
  {
   "cell_type": "markdown",
   "metadata": {
    "deletable": true,
    "editable": true
   },
   "source": [
    "### Train, Validate and Test the Model"
   ]
  },
  {
   "cell_type": "markdown",
   "metadata": {
    "deletable": true,
    "editable": true
   },
   "source": [
    "A validation set can be used to assess how well the model is performing. A low accuracy on the training and validation\n",
    "sets imply underfitting. A high accuracy on the training set but low accuracy on the validation set implies overfitting."
   ]
  },
  {
   "cell_type": "markdown",
   "metadata": {
    "deletable": true,
    "editable": true
   },
   "source": [
    "---\n",
    "\n",
    "### Trainining  pipeline"
   ]
  },
  {
   "cell_type": "code",
   "execution_count": 7,
   "metadata": {
    "collapsed": true,
    "deletable": true,
    "editable": true
   },
   "outputs": [],
   "source": [
    "### Train your model here.\n",
    "### Calculate and report the accuracy on the training and validation set.\n",
    "### Once a final model architecture is selected, \n",
    "### the accuracy on the test set should be calculated and reported as well.\n",
    "### Feel free to use as many code cells as needed.\n",
    "from sklearn.utils import shuffle\n",
    "import tensorflow as tf\n",
    "\n",
    "lr = 0.005\n",
    "EPOCHS = 30\n",
    "BATCH_SIZE = 128\n",
    "\n",
    "# Building the model\n",
    "x = tf.placeholder(tf.float32, (None, 32, 32, 1))\n",
    "y = tf.placeholder(tf.int32, (None))\n",
    "one_hot_y = tf.one_hot(y, n_classes)\n",
    "\n",
    "logits = LeNet(x, nlabels = n_classes)\n",
    "\n",
    "cross_entropy = tf.nn.softmax_cross_entropy_with_logits(labels=one_hot_y, logits=logits)\n",
    "\n",
    "loss_operation = tf.reduce_mean(cross_entropy)\n",
    "\n",
    "optimizer = tf.train.AdamOptimizer(learning_rate = lr)\n",
    "training_operation = optimizer.minimize(loss_operation)"
   ]
  },
  {
   "cell_type": "markdown",
   "metadata": {
    "deletable": true,
    "editable": true
   },
   "source": [
    "---\n",
    "### Model evaluation functions"
   ]
  },
  {
   "cell_type": "code",
   "execution_count": 8,
   "metadata": {
    "collapsed": true,
    "deletable": true,
    "editable": true
   },
   "outputs": [],
   "source": [
    "correct_prediction = tf.equal(tf.argmax(logits, 1), tf.argmax(one_hot_y, 1))\n",
    "accuracy_operation = tf.reduce_mean(tf.cast(correct_prediction, tf.float32))\n",
    "saver = tf.train.Saver()\n",
    "\n",
    "def evaluate(X_data, y_data):\n",
    "    num_examples = len(X_data)\n",
    "    total_accuracy = 0\n",
    "    sess = tf.get_default_session()\n",
    "    for offset in range(0, num_examples, BATCH_SIZE):\n",
    "        batch_x, batch_y = X_data[offset:offset+BATCH_SIZE], y_data[offset:offset+BATCH_SIZE]\n",
    "        accuracy = sess.run(accuracy_operation, feed_dict={x: batch_x, y: batch_y})\n",
    "        total_accuracy += (accuracy * len(batch_x))\n",
    "    return total_accuracy / num_examples"
   ]
  },
  {
   "cell_type": "markdown",
   "metadata": {
    "deletable": true,
    "editable": true
   },
   "source": [
    "---\n",
    "### Launch training\n",
    "\n",
    "NOTE : the best practice is to use tensorboard for monitoring accuracy."
   ]
  },
  {
   "cell_type": "code",
   "execution_count": 9,
   "metadata": {
    "collapsed": false,
    "deletable": true,
    "editable": true
   },
   "outputs": [
    {
     "name": "stdout",
     "output_type": "stream",
     "text": [
      "Runnning training graph\n",
      "\n",
      "EPOCH 01: Loss : 0.21854, Train/validation accuracy : 94.59/90.36. Elapsed time (s): 16.71\n",
      "EPOCH 02: Loss : 0.13431, Train/validation accuracy : 97.30/93.45. Elapsed time (s): 16.71\n",
      "EPOCH 03: Loss : 0.07287, Train/validation accuracy : 98.20/94.85. Elapsed time (s): 16.73\n",
      "EPOCH 04: Loss : 0.11526, Train/validation accuracy : 95.50/95.35. Elapsed time (s): 16.80\n",
      "EPOCH 05: Loss : 0.02928, Train/validation accuracy : 99.10/95.69. Elapsed time (s): 16.85\n",
      "EPOCH 06: Loss : 0.03708, Train/validation accuracy : 98.20/94.72. Elapsed time (s): 16.91\n",
      "EPOCH 07: Loss : 0.01532, Train/validation accuracy : 99.10/94.40. Elapsed time (s): 16.90\n",
      "EPOCH 08: Loss : 0.02630, Train/validation accuracy : 99.10/94.85. Elapsed time (s): 16.81\n",
      "EPOCH 09: Loss : 0.07682, Train/validation accuracy : 97.30/96.64. Elapsed time (s): 16.91\n",
      "EPOCH 10: Loss : 0.00479, Train/validation accuracy : 100.00/96.03. Elapsed time (s): 16.89\n",
      "EPOCH 11: Loss : 0.00033, Train/validation accuracy : 100.00/96.55. Elapsed time (s): 16.86\n",
      "EPOCH 12: Loss : 0.27158, Train/validation accuracy : 92.79/95.19. Elapsed time (s): 17.21\n",
      "EPOCH 13: Loss : 0.01579, Train/validation accuracy : 100.00/94.72. Elapsed time (s): 18.19\n",
      "EPOCH 14: Loss : 0.03429, Train/validation accuracy : 98.20/94.33. Elapsed time (s): 17.57\n",
      "EPOCH 15: Loss : 0.01270, Train/validation accuracy : 99.10/95.85. Elapsed time (s): 17.50\n",
      "EPOCH 16: Loss : 0.08310, Train/validation accuracy : 97.30/95.15. Elapsed time (s): 17.30\n",
      "EPOCH 17: Loss : 0.00956, Train/validation accuracy : 100.00/95.53. Elapsed time (s): 17.41\n",
      "EPOCH 18: Loss : 0.10326, Train/validation accuracy : 96.40/94.85. Elapsed time (s): 17.35\n",
      "EPOCH 19: Loss : 0.03519, Train/validation accuracy : 97.30/94.47. Elapsed time (s): 17.59\n",
      "EPOCH 20: Loss : 0.00215, Train/validation accuracy : 100.00/95.08. Elapsed time (s): 17.42\n",
      "EPOCH 21: Loss : 0.00179, Train/validation accuracy : 100.00/95.28. Elapsed time (s): 17.69\n",
      "EPOCH 22: Loss : 0.00062, Train/validation accuracy : 100.00/95.67. Elapsed time (s): 17.56\n",
      "EPOCH 23: Loss : 0.02253, Train/validation accuracy : 99.10/96.60. Elapsed time (s): 17.55\n",
      "EPOCH 24: Loss : 0.00049, Train/validation accuracy : 100.00/96.37. Elapsed time (s): 17.62\n",
      "EPOCH 25: Loss : 0.01004, Train/validation accuracy : 100.00/95.94. Elapsed time (s): 17.71\n",
      "EPOCH 26: Loss : 0.00016, Train/validation accuracy : 100.00/96.10. Elapsed time (s): 17.63\n",
      "EPOCH 27: Loss : 0.00005, Train/validation accuracy : 100.00/95.92. Elapsed time (s): 17.67\n",
      "EPOCH 28: Loss : 0.01781, Train/validation accuracy : 100.00/95.62. Elapsed time (s): 17.83\n",
      "EPOCH 29: Loss : 0.01568, Train/validation accuracy : 99.10/95.69. Elapsed time (s): 17.88\n",
      "EPOCH 30: Loss : 0.00030, Train/validation accuracy : 100.00/96.53. Elapsed time (s): 17.75\n",
      "Model saved\n",
      "Test Accuracy = 0.943\n"
     ]
    }
   ],
   "source": [
    "import time\n",
    "\n",
    "with tf.Session() as sess:\n",
    "    sess.run(tf.global_variables_initializer())\n",
    "    num_examples = len(X_train_gray)\n",
    "    \n",
    "    print(\"Runnning training graph\\n\")\n",
    "\n",
    "    for i in range(EPOCHS):\n",
    "        timestamp = time.time()\n",
    "        X_train_gray, y_train = shuffle(X_train_gray, y_train)\n",
    "        for offset in range(0, num_examples, BATCH_SIZE):\n",
    "            end = offset + BATCH_SIZE\n",
    "            batch_x, batch_y = X_train_gray[offset:end], y_train[offset:end]\n",
    "            ops = [training_operation, loss_operation, accuracy_operation]\n",
    "            _, loss, train_accuracy = sess.run(ops, feed_dict={x: batch_x, y: batch_y})\n",
    "            \n",
    "        valid_accuracy = evaluate(X_valid_gray, y_valid)\n",
    "        timestamp = time.time() - timestamp\n",
    "        message = \"EPOCH {:02d}: Loss : {:.5f}, Train/validation accuracy : {:.2f}/{:.2f}\"\n",
    "        message+= \". Elapsed time (s): {:.2f}\"\n",
    "        print(message.format(i+1, loss, train_accuracy*100, valid_accuracy*100, timestamp))\n",
    "        \n",
    "    saver.save(sess, './model')\n",
    "    print(\"Model saved\")\n",
    "    \n",
    "#Run testing\n",
    "with tf.Session() as sess:\n",
    "    saver.restore(sess, './model')\n",
    "    test_accuracy = evaluate(X_test_gray, y_test)\n",
    "    print(\"Test Accuracy = {:.3f}\".format(test_accuracy))    "
   ]
  },
  {
   "cell_type": "markdown",
   "metadata": {
    "deletable": true,
    "editable": true
   },
   "source": [
    "---\n",
    "\n",
    "## Step 3: Test a Model on New Images\n",
    "\n",
    "To give yourself more insight into how your model is working, download at least five pictures of German traffic signs from the web and use your model to predict the traffic sign type.\n",
    "\n",
    "You may find `signnames.csv` useful as it contains mappings from the class id (integer) to the actual sign name."
   ]
  },
  {
   "cell_type": "markdown",
   "metadata": {
    "deletable": true,
    "editable": true
   },
   "source": [
    "### Load and Output the Images"
   ]
  },
  {
   "cell_type": "code",
   "execution_count": 10,
   "metadata": {
    "collapsed": false,
    "deletable": true,
    "editable": true,
    "scrolled": true
   },
   "outputs": [
    {
     "data": {
      "image/png": "[encoded data removed]",
      "text/plain": [
       "<matplotlib.figure.Figure at 0x1b89ba2a860>"
      ]
     },
     "metadata": {},
     "output_type": "display_data"
    },
    {
     "data": {
      "image/png": "[encoded data removed]",
      "text/plain": [
       "<matplotlib.figure.Figure at 0x1b8f49482b0>"
      ]
     },
     "metadata": {},
     "output_type": "display_data"
    },
    {
     "data": {
      "image/png": "[encoded data removed]",
      "text/plain": [
       "<matplotlib.figure.Figure at 0x1b8f4ad2320>"
      ]
     },
     "metadata": {},
     "output_type": "display_data"
    },
    {
     "data": {
      "image/png": "[encoded data removed]",
      "text/plain": [
       "<matplotlib.figure.Figure at 0x1b89c182fd0>"
      ]
     },
     "metadata": {},
     "output_type": "display_data"
    },
    {
     "data": {
      "image/png": "[encoded data removed]",
      "text/plain": [
       "<matplotlib.figure.Figure at 0x1b89d5f94a8>"
      ]
     },
     "metadata": {},
     "output_type": "display_data"
    },
    {
     "data": {
      "image/png": "[encoded data removed]",
      "text/plain": [
       "<matplotlib.figure.Figure at 0x1b89d327748>"
      ]
     },
     "metadata": {},
     "output_type": "display_data"
    }
   ],
   "source": [
    "### Load the images and plot them here.\n",
    "### Feel free to use as many code cells as needed.\n",
    "import os\n",
    "import cv2\n",
    "\n",
    "DATA_DIR = \"net_data\"\n",
    "\n",
    "X_extra = []\n",
    "Y_extra = []\n",
    "for file in os.listdir(DATA_DIR):\n",
    "    img = cv2.imread(os.path.join(DATA_DIR, file), 1)\n",
    "    X_extra.append(img)\n",
    "    Y_extra.append(int(file[:2]))\n",
    "    plt.imshow(img)\n",
    "    plt.show()\n",
    "\n",
    "X_extra = np.array(X_extra)\n",
    "Y_extra = np.array(Y_extra, dtype=int)\n"
   ]
  },
  {
   "cell_type": "code",
   "execution_count": 11,
   "metadata": {
    "collapsed": false
   },
   "outputs": [],
   "source": [
    "# Converting the images to the NN's input format\n",
    "X_extra = process_set(X_extra)    "
   ]
  },
  {
   "cell_type": "markdown",
   "metadata": {
    "deletable": true,
    "editable": true
   },
   "source": [
    "### Predict the Sign Type for Each Image"
   ]
  },
  {
   "cell_type": "code",
   "execution_count": 12,
   "metadata": {
    "collapsed": false,
    "deletable": true,
    "editable": true
   },
   "outputs": [
    {
     "name": "stdout",
     "output_type": "stream",
     "text": [
      "Test Accuracy = 0.333\n"
     ]
    }
   ],
   "source": [
    "### Run the predictions here and use the model to output the prediction for each image.\n",
    "### Make sure to pre-process the images with the same pre-processing pipeline used earlier.\n",
    "### Feel free to use as many code cells as needed.\n",
    "import tensorflow as tf\n",
    "\n",
    "with tf.Session() as sess:\n",
    "    saver = tf.train.Saver()\n",
    "    saver.restore(sess, './model')\n",
    "    test_accuracy = evaluate(X_extra, Y_extra)\n",
    "    print(\"Test Accuracy = {:.3f}\".format(test_accuracy))\n",
    "    probs = sess.run(logits, feed_dict={x: X_extra})"
   ]
  },
  {
   "cell_type": "markdown",
   "metadata": {
    "deletable": true,
    "editable": true
   },
   "source": [
    "### Analyze Performance"
   ]
  },
  {
   "cell_type": "code",
   "execution_count": 13,
   "metadata": {
    "collapsed": false,
    "deletable": true,
    "editable": true
   },
   "outputs": [],
   "source": [
    "### Calculate the accuracy for these 5 new images. \n",
    "### For example, if the model predicted 1 out of 5 signs correctly, it's 20% accurate on these new images."
   ]
  },
  {
   "cell_type": "markdown",
   "metadata": {
    "deletable": true,
    "editable": true
   },
   "source": [
    "### Output Top 5 Softmax Probabilities For Each Image Found on the Web"
   ]
  },
  {
   "cell_type": "markdown",
   "metadata": {
    "deletable": true,
    "editable": true
   },
   "source": [
    "For each of the new images, print out the model's softmax probabilities to show the **certainty** of the model's predictions (limit the output to the top 5 probabilities for each image). [`tf.nn.top_k`](https://www.tensorflow.org/versions/r0.12/api_docs/python/nn.html#top_k) could prove helpful here. \n",
    "\n",
    "The example below demonstrates how tf.nn.top_k can be used to find the top k predictions for each image.\n",
    "\n",
    "`tf.nn.top_k` will return the values and indices (class ids) of the top k predictions. So if k=3, for each sign, it'll return the 3 largest probabilities (out of a possible 43) and the correspoding class ids.\n",
    "\n",
    "Take this numpy array as an example. The values in the array represent predictions. The array contains softmax probabilities for five candidate images with six possible classes. `tf.nn.top_k` is used to choose the three classes with the highest probability:\n",
    "\n",
    "```\n",
    "# (5, 6) array\n",
    "a = np.array([[ 0.24879643,  0.07032244,  0.12641572,  0.34763842,  0.07893497,\n",
    "         0.12789202],\n",
    "       [ 0.28086119,  0.27569815,  0.08594638,  0.0178669 ,  0.18063401,\n",
    "         0.15899337],\n",
    "       [ 0.26076848,  0.23664738,  0.08020603,  0.07001922,  0.1134371 ,\n",
    "         0.23892179],\n",
    "       [ 0.11943333,  0.29198961,  0.02605103,  0.26234032,  0.1351348 ,\n",
    "         0.16505091],\n",
    "       [ 0.09561176,  0.34396535,  0.0643941 ,  0.16240774,  0.24206137,\n",
    "         0.09155967]])\n",
    "```\n",
    "\n",
    "Running it through `sess.run(tf.nn.top_k(tf.constant(a), k=3))` produces:\n",
    "\n",
    "```\n",
    "TopKV2(values=array([[ 0.34763842,  0.24879643,  0.12789202],\n",
    "       [ 0.28086119,  0.27569815,  0.18063401],\n",
    "       [ 0.26076848,  0.23892179,  0.23664738],\n",
    "       [ 0.29198961,  0.26234032,  0.16505091],\n",
    "       [ 0.34396535,  0.24206137,  0.16240774]]), indices=array([[3, 0, 5],\n",
    "       [0, 1, 4],\n",
    "       [0, 5, 1],\n",
    "       [1, 3, 5],\n",
    "       [1, 4, 3]], dtype=int32))\n",
    "```\n",
    "\n",
    "Looking just at the first row we get `[ 0.34763842,  0.24879643,  0.12789202]`, you can confirm these are the 3 largest probabilities in `a`. You'll also notice `[3, 0, 5]` are the corresponding indices."
   ]
  },
  {
   "cell_type": "code",
   "execution_count": 14,
   "metadata": {
    "collapsed": false,
    "deletable": true,
    "editable": true
   },
   "outputs": [
    {
     "name": "stdout",
     "output_type": "stream",
     "text": [
      "Image label : 03,  predicted 02\n",
      "(array([ 4.16491604,  3.74100542,  3.13840818], dtype=float32), array([ 2, 40, 12]))\n",
      "Image label : 13,  predicted 13\n",
      "(array([ 70.73216248,  21.93927383,  17.01338768], dtype=float32), array([13, 12,  9]))\n",
      "Image label : 14,  predicted 13\n",
      "(array([ 6.12605476,  2.64989495,  2.01705742], dtype=float32), array([13,  2,  3]))\n",
      "Image label : 20,  predicted 20\n",
      "(array([ 82.45999146,  26.72838593,   9.98504448], dtype=float32), array([20, 38, 16]))\n",
      "Image label : 24,  predicted 18\n",
      "(array([ 59.34755707,  18.36695671,   9.54554558], dtype=float32), array([18, 35, 26]))\n",
      "Image label : 25,  predicted 29\n",
      "(array([ 4.15684557,  2.29375601,  0.82415372], dtype=float32), array([29, 28, 11]))\n"
     ]
    }
   ],
   "source": [
    "### Print out the top five softmax probabilities for the predictions on the German traffic sign images found on the web. \n",
    "### Feel free to use as many code cells as needed.\n",
    "with tf.Session() as sess:\n",
    "    class_probs = sess.run(tf.nn.top_k(probs, k=3, sorted=True))\n",
    "\n",
    "for img in range(len(Y_extra)):\n",
    "    print(\"Image label : {:02d},  predicted {:02d}\".format(Y_extra[img], class_probs[1][img][0]))\n",
    "    print((class_probs[0][img], class_probs[1][img]))"
   ]
  },
  {
   "cell_type": "markdown",
   "metadata": {
    "deletable": true,
    "editable": true
   },
   "source": [
    "### Project Writeup\n",
    "\n",
    "Once you have completed the code implementation, document your results in a project writeup using this [template](https://github.com/udacity/CarND-Traffic-Sign-Classifier-Project/blob/master/writeup_template.md) as a guide. The writeup can be in a markdown or pdf file. "
   ]
  },
  {
   "cell_type": "markdown",
   "metadata": {
    "deletable": true,
    "editable": true
   },
   "source": [
    "> **Note**: Once you have completed all of the code implementations and successfully answered each question above, you may finalize your work by exporting the iPython Notebook as an HTML document. You can do this by using the menu above and navigating to  \\n\",\n",
    "    \"**File -> Download as -> HTML (.html)**. Include the finished document along with this notebook as your submission."
   ]
  },
  {
   "cell_type": "markdown",
   "metadata": {
    "deletable": true,
    "editable": true
   },
   "source": [
    "---\n",
    "\n",
    "## Step 4 (Optional): Visualize the Neural Network's State with Test Images\n",
    "\n",
    " This Section is not required to complete but acts as an additional excersise for understaning the output of a neural network's weights. While neural networks can be a great learning device they are often referred to as a black box. We can understand what the weights of a neural network look like better by plotting their feature maps. After successfully training your neural network you can see what it's feature maps look like by plotting the output of the network's weight layers in response to a test stimuli image. From these plotted feature maps, it's possible to see what characteristics of an image the network finds interesting. For a sign, maybe the inner network feature maps react with high activation to the sign's boundary outline or to the contrast in the sign's painted symbol.\n",
    "\n",
    " Provided for you below is the function code that allows you to get the visualization output of any tensorflow weight layer you want. The inputs to the function should be a stimuli image, one used during training or a new one you provided, and then the tensorflow variable name that represents the layer's state during the training process, for instance if you wanted to see what the [LeNet lab's](https://classroom.udacity.com/nanodegrees/nd013/parts/fbf77062-5703-404e-b60c-95b78b2f3f9e/modules/6df7ae49-c61c-4bb2-a23e-6527e69209ec/lessons/601ae704-1035-4287-8b11-e2c2716217ad/concepts/d4aca031-508f-4e0b-b493-e7b706120f81) feature maps looked like for it's second convolutional layer you could enter conv2 as the tf_activation variable.\n",
    "\n",
    "For an example of what feature map outputs look like, check out NVIDIA's results in their paper [End-to-End Deep Learning for Self-Driving Cars](https://devblogs.nvidia.com/parallelforall/deep-learning-self-driving-cars/) in the section Visualization of internal CNN State. NVIDIA was able to show that their network's inner weights had high activations to road boundary lines by comparing feature maps from an image with a clear path to one without. Try experimenting with a similar test to show that your trained network's weights are looking for interesting features, whether it's looking at differences in feature maps from images with or without a sign, or even what feature maps look like in a trained network vs a completely untrained one on the same sign image.\n",
    "\n",
    "<figure>\n",
    " <img src=\"visualize_cnn.png\" width=\"380\" alt=\"Combined Image\" />\n",
    " <figcaption>\n",
    " <p></p> \n",
    " <p style=\"text-align: center;\"> Your output should look something like this (above)</p> \n",
    " </figcaption>\n",
    "</figure>\n",
    " <p></p> \n"
   ]
  },
  {
   "cell_type": "code",
   "execution_count": 15,
   "metadata": {
    "collapsed": true,
    "deletable": true,
    "editable": true
   },
   "outputs": [],
   "source": [
    "### Visualize your network's feature maps here.\n",
    "### Feel free to use as many code cells as needed.\n",
    "\n",
    "# image_input: the test image being fed into the network to produce the feature maps\n",
    "# tf_activation: should be a tf variable name used during your training procedure that represents the calculated state of a specific weight layer\n",
    "# activation_min/max: can be used to view the activation contrast in more detail, by default matplot sets min and max to the actual min and max values of the output\n",
    "# plt_num: used to plot out multiple different weight feature map sets on the same block, just extend the plt number for each new feature map entry\n",
    "\n",
    "def outputFeatureMap(image_input, tf_activation, activation_min=-1, activation_max=-1 ,plt_num=1):\n",
    "    # Here make sure to preprocess your image_input in a way your network expects\n",
    "    # with size, normalization, ect if needed\n",
    "    # image_input =\n",
    "    # Note: x should be the same name as your network's tensorflow data placeholder variable\n",
    "    # If you get an error tf_activation is not defined it may be having trouble accessing the variable from inside a function\n",
    "    activation = tf_activation.eval(session=sess,feed_dict={x : image_input})\n",
    "    featuremaps = activation.shape[3]\n",
    "    plt.figure(plt_num, figsize=(15,15))\n",
    "    for featuremap in range(featuremaps):\n",
    "        plt.subplot(6,8, featuremap+1) # sets the number of feature maps to show on each row and column\n",
    "        plt.title('FeatureMap ' + str(featuremap)) # displays the feature map number\n",
    "        if activation_min != -1 & activation_max != -1:\n",
    "            plt.imshow(activation[0,:,:, featuremap], interpolation=\"nearest\", vmin =activation_min, vmax=activation_max, cmap=\"gray\")\n",
    "        elif activation_max != -1:\n",
    "            plt.imshow(activation[0,:,:, featuremap], interpolation=\"nearest\", vmax=activation_max, cmap=\"gray\")\n",
    "        elif activation_min !=-1:\n",
    "            plt.imshow(activation[0,:,:, featuremap], interpolation=\"nearest\", vmin=activation_min, cmap=\"gray\")\n",
    "        else:\n",
    "            plt.imshow(activation[0,:,:, featuremap], interpolation=\"nearest\", cmap=\"gray\")"
   ]
  }
 ],
 "metadata": {
  "anaconda-cloud": {},
  "kernelspec": {
   "display_name": "Python 3",
   "language": "python",
   "name": "python3"
  },
  "language_info": {
   "codemirror_mode": {
    "name": "ipython",
    "version": 3
   },
   "file_extension": ".py",
   "mimetype": "text/x-python",
   "name": "python",
   "nbconvert_exporter": "python",
   "pygments_lexer": "ipython3",
   "version": "3.5.1"
  }
 },
 "nbformat": 4,
 "nbformat_minor": 1
}
